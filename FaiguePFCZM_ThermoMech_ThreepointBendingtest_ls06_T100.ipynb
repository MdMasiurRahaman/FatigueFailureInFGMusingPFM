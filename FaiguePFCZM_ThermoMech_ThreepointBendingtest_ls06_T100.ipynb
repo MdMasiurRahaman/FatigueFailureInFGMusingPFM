{
 "cells": [
  {
   "cell_type": "code",
   "execution_count": null,
   "id": "f917a774-2e5a-4f39-bfd1-62075db7f4e4",
   "metadata": {},
   "outputs": [],
   "source": [
    "using  GridapGmsh\n",
    "using  Gridap\n",
    "using  Gridap.Geometry\n",
    "using  Gridap.TensorValues\n",
    "using  Plots\n",
    "using LinearAlgebra\n",
    "using LineSearches: BackTracking\n",
    "using Gridap.Arrays\n",
    "using Gridap.ReferenceFEs"
   ]
  },
  {
   "cell_type": "code",
   "execution_count": null,
   "id": "0570f96d-de38-4d32-8d44-7e2367b8f101",
   "metadata": {},
   "outputs": [],
   "source": [
    "const T0 = 300\n",
    "const ΔT = 100.0\n",
    "const TAppMax = T0 + ΔT\n",
    "\n",
    "const tMax = 10.0\n",
    "const n = 1000\n",
    "const nExp = 50\n",
    "const tTran = tMax/(n/nExp) #0.5\n",
    "const Tₚ = tMax/n\n",
    "const n1 = 16 # loadsteps\n",
    "const delv = 0.3\n",
    "const tp = Tₚ/n1\n",
    "t = 0.0\n",
    "const dc = 1/n1\n",
    "vApp = 0.0\n",
    "\n",
    "timev = Float64[]\n",
    "AppDisplacement = Float64[]\n",
    "\n",
    "push!(timev, t)\n",
    "push!(AppDisplacement, vApp)\n",
    "\n",
    "while  t .< tMax\n",
    "    t = t + tp\n",
    "    vApp = abs(4*delv/Tₚ * abs((((t-Tₚ/4)%Tₚ)+Tₚ)%Tₚ - Tₚ/2) - delv)\n",
    "    #vApp = round(vAppC,digits = 6)\n",
    "    push!(timev, t)\n",
    "    push!(AppDisplacement, vApp)\n",
    "end"
   ]
  },
  {
   "cell_type": "code",
   "execution_count": null,
   "id": "removable-sitting",
   "metadata": {},
   "outputs": [],
   "source": [
    "function Tfun(t)  \n",
    "    if t <= tTran\n",
    "      return ((TAppMax - T0)/tTran)*t + T0\n",
    "    else\n",
    "     return  TAppMax\n",
    "    end\n",
    "end \n",
    "TAppVec = Tfun.(timev)\n",
    "plot(Tfun,0,tMax)"
   ]
  },
  {
   "cell_type": "code",
   "execution_count": null,
   "id": "related-charm",
   "metadata": {},
   "outputs": [],
   "source": [
    "const E = 6e3\n",
    "const ν= 0.22\n",
    "const Gc = 2.28\n",
    "const η= 0.0\n",
    "const α= 8e-6\n",
    "const c = 1.899e-3\n",
    "const κ_mat = 300.0\n",
    "const ρ= 2450e-9"
   ]
  },
  {
   "cell_type": "code",
   "execution_count": null,
   "id": "ec03af2a-f010-4d49-87fe-3b4331cb11f5",
   "metadata": {},
   "outputs": [],
   "source": [
    "## Mesh related quantities\n",
    "const  L = 200.0\n",
    "const  LL = 0.475.*L\n",
    "const  LR = 0.525.*L\n",
    "const  RS = L - 10\n",
    "const  LS = 10\n",
    "const  H = 40.0\n",
    "const  CH = 18.0 #Crack  height\n",
    "const  CW = 2.5 #Crack  Width\n",
    "const  ls = 0.6\n",
    "const  hf = 0.2/2.5 #Mesh  size  parameter\n",
    "const  h = 30*(0.2/2.1) #Mesh  size  parameter"
   ]
  },
  {
   "cell_type": "code",
   "execution_count": null,
   "id": "c70516e3-f0df-44d3-80f7-210b07a2062b",
   "metadata": {},
   "outputs": [],
   "source": [
    "const αT = 0.95 \n",
    "const kf = 0.5\n",
    "const ψ_Crit =αT * kf\n",
    "const σc = sqrt(ψ_Crit*2*E)\n",
    "const m = 3*E*Gc/(4*ls*σc^2)"
   ]
  },
  {
   "cell_type": "code",
   "execution_count": null,
   "id": "bf60140a-3716-4d5a-80e7-c617dc1d403d",
   "metadata": {},
   "outputs": [],
   "source": [
    "path = \"./Disp_load_Results_forls$ls/\"                                # Output path\n",
    "mkpath(path) \n",
    "cd(\"Disp_load_Results_forls$ls/\")"
   ]
  },
  {
   "cell_type": "code",
   "execution_count": null,
   "id": "7fb0232c",
   "metadata": {},
   "outputs": [],
   "source": [
    "using  Gmsh: gmsh\n",
    "\n",
    "gmsh.initialize()\n",
    "gmsh.option.setNumber(\"General.Terminal\", 1)\n",
    "gmsh.model.geo.addPoint((L/2)+(CW/2), 0.0 , 0.0, h ,1)\n",
    "gmsh.model.geo.addPoint(RS, 0.0, 0.0, h, 101)\n",
    "gmsh.model.geo.addPoint(L, 0.0, 0.0, h, 2)\n",
    "gmsh.model.geo.addPoint(L, H, 0.0, h, 3)\n",
    "gmsh.model.geo.addPoint(LR , H, 0.0, h, 4)\n",
    "gmsh.model.geo.addPoint(LL , H, 0.0, h, 5)\n",
    "gmsh.model.geo.addPoint(0.0, H, 0.0, h, 6)\n",
    "gmsh.model.geo.addPoint(0.0, 0.0, 0.0, h, 7)\n",
    "gmsh.model.geo.addPoint(LS, 0.0, 0.0, h, 701)\n",
    "gmsh.model.geo.addPoint((L/2) -(CW/2), 0.0 , 0.0, h ,8)\n",
    "gmsh.model.geo.addPoint((L/2) -(CW/2), CH-0.1*CH , 0.0, h ,801)\n",
    "gmsh.model.geo.addPoint((L/2), CH , 0.0, h , 9)\n",
    "gmsh.model.geo.addPoint((L/2) + (CW/2), CH-0.1*CH , 0.0, h ,901)\n",
    "\n",
    "gmsh.model.geo.addLine(1, 101, 1)\n",
    "gmsh.model.geo.addLine(101, 2, 101)\n",
    "gmsh.model.geo.addLine(2, 3, 2)\n",
    "gmsh.model.geo.addLine(3, 4, 3)\n",
    "gmsh.model.geo.addLine(4, 5, 4)\n",
    "gmsh.model.geo.addLine(5, 6, 5)\n",
    "gmsh.model.geo.addLine(6, 7, 6)\n",
    "gmsh.model.geo.addLine(7, 701, 701)\n",
    "gmsh.model.geo.addLine(701, 8, 7)\n",
    "gmsh.model.geo.addLine(8, 801, 801)\n",
    "gmsh.model.geo.addLine(801, 9, 8)\n",
    "gmsh.model.geo.addLine(9, 901, 901)\n",
    "gmsh.model.geo.addLine(901, 1, 9)\n",
    "\n",
    "gmsh.model.geo.addCurveLoop([1,101,2,3,4,5,6,701,7,801,8,901,9],1)\n",
    "gmsh.model.geo.addPlaneSurface([1], 1)\n",
    "gmsh.model.addPhysicalGroup(2, [1],1)\n",
    "\n",
    "gmsh.model.addPhysicalGroup(1, [4],1)\n",
    "gmsh.model.addPhysicalGroup(1, [6],2)\n",
    "gmsh.model.addPhysicalGroup(1, [2],3)\n",
    "\n",
    "gmsh.model.addPhysicalGroup(0, [701],2)\n",
    "gmsh.model.addPhysicalGroup(0, [101],3)\n",
    "\n",
    "gmsh.model.setPhysicalName(2, 1, \"Domain\")\n",
    "gmsh.model.setPhysicalName(1, 1, \"LoadLine\")\n",
    "gmsh.model.setPhysicalName(1, 2, \"LeftTempBoundary\")\n",
    "gmsh.model.setPhysicalName(1, 3, \"RightTempBoundary\")\n",
    "\n",
    "gmsh.model.setPhysicalName(0, 2, \"LeftSupport\")\n",
    "gmsh.model.setPhysicalName(0, 3, \"RightSupport\")\n",
    "\n",
    "gmsh.model.mesh.field.add(\"Box\", 10)\n",
    "gmsh.model.mesh.field.setNumber(10, \"VIn\", hf)\n",
    "gmsh.model.mesh.field.setNumber(10, \"VOut\", h)\n",
    "gmsh.model.mesh.field.setNumber(10, \"XMin\", (L/2)-4.0)\n",
    "gmsh.model.mesh.field.setNumber(10, \"XMax\", (L/2)+4.0)\n",
    "gmsh.model.mesh.field.setNumber(10, \"YMin\", 0)\n",
    "gmsh.model.mesh.field.setNumber(10, \"YMax\", H)\n",
    "gmsh.model.mesh.field.setAsBackgroundMesh(10)\n",
    "gmsh.model.geo.synchronize()\n",
    "gmsh.model.mesh.generate(2)\n",
    "gmsh.write(\"BeamWithNotchSymThreePtBending.msh\")\n",
    "gmsh.finalize()"
   ]
  },
  {
   "cell_type": "code",
   "execution_count": null,
   "id": "competent-enterprise",
   "metadata": {},
   "outputs": [],
   "source": [
    "model = GmshDiscreteModel(\"BeamWithNotchSymThreePtBending.msh\")\n",
    "writevtk(model ,\"BeamWithNotchSymThreePtBending\")"
   ]
  },
  {
   "cell_type": "code",
   "execution_count": null,
   "id": "77d0ed0d-797c-4ade-950e-569ad3962065",
   "metadata": {},
   "outputs": [],
   "source": [
    "function degDer(ϕ)\n",
    "    g = (m*ϕ)/(0.25*m^2*ϕ^4 - 0.5*m^2*ϕ^2 + 0.25*m^2 - m*ϕ^4 + m*ϕ^2 + ϕ^4) \n",
    "    return g\n",
    "end"
   ]
  },
  {
   "cell_type": "code",
   "execution_count": null,
   "id": "systematic-railway",
   "metadata": {},
   "outputs": [],
   "source": [
    "function  ElasFourthOrderConstTensor(E,ν,PlanarState)# 1 for  Plane  Stress  and 2 Plane  Strain  Condition\n",
    "    if  PlanarState  == 1\n",
    "        C1111 =E/(1-ν*ν)\n",
    "        C1122 = (ν*E)/(1-ν*ν)\n",
    "        C1112 = 0.0\n",
    "        C2222 =E/(1-ν*ν)\n",
    "        C2212 = 0.0\n",
    "        C1212 =E/(2*(1+ν))\n",
    "    elseif  PlanarState  == 2\n",
    "        C1111 = (E*(1-ν*ν))/((1+ν)*(1-ν-2*ν*ν))\n",
    "        C1122 = (ν*E)/(1-ν-2*ν*ν)\n",
    "        C1112 = 0.0\n",
    "        C2222 = (E*(1-ν))/(1-ν-2*ν*ν)\n",
    "        C2212 = 0.0\n",
    "        C1212 =E/(2*(1+ν))\n",
    "    end\n",
    "    C_ten = SymFourthOrderTensorValue(C1111 ,C1112 ,C1122 ,C1112 ,\n",
    "        C1212 ,C2212 ,C1122 ,C2212 ,C2222)\n",
    "    return   C_ten\n",
    "end"
   ]
  },
  {
   "cell_type": "code",
   "execution_count": null,
   "id": "sharing-shark",
   "metadata": {},
   "outputs": [],
   "source": [
    "const  C_mat = ElasFourthOrderConstTensor(E,ν,1)"
   ]
  },
  {
   "cell_type": "code",
   "execution_count": null,
   "id": "duplicate-copyright",
   "metadata": {},
   "outputs": [],
   "source": [
    "I2 = SymTensorValue{2,Float64}(1.0 ,0.0 ,1.0)\n",
    "I4 = I2 ⊗ I2\n",
    "I4_sym = one(SymFourthOrderTensorValue{2,Float64})\n",
    "I4_vol = (1.0/2)*I4\n",
    "I4_dev = I4_sym  - I4_vol"
   ]
  },
  {
   "cell_type": "code",
   "execution_count": null,
   "id": "dressed-liberty",
   "metadata": {},
   "outputs": [],
   "source": [
    "σ_elas(εElas) = C_mat ⊙ εElas"
   ]
  },
  {
   "cell_type": "code",
   "execution_count": null,
   "id": "careful-covering",
   "metadata": {},
   "outputs": [],
   "source": [
    "function σ_elasMod(ε,ε_in , s_in ,T,T_in)\n",
    "    εElas_in = ε_in - α*(T_in -T0)*I2\n",
    "    εElas = ε - α*(T-T0)*I2\n",
    "\n",
    "    gs = (s_in^2) / (s_in^2 + m*(1-s_in)*(0.5+0.5*s_in))\n",
    "    \n",
    "    if tr(εElas_in)  >= 0\n",
    "        σ= (gs +η)*σ_elas(εElas)\n",
    "    elseif  tr(εElas_in) < 0\n",
    "        σ= (gs +η) *I4_dev ⊙ σ_elas(εElas) + I4_vol ⊙ σ_elas(εElas)\n",
    "    end\n",
    "    return σ\n",
    "end"
   ]
  },
  {
   "cell_type": "code",
   "execution_count": null,
   "id": "a79b219e",
   "metadata": {},
   "outputs": [],
   "source": [
    "function σ_totMod(ε,ε_in ,s_in, T_in)\n",
    "    εElas_in = ε_in - α*(T_in -T0)*I2\n",
    "    εElasTot = ε\n",
    "    gs = (s_in^2) / (s_in^2 + m*(1-s_in)*(0.5+0.5*s_in))\n",
    "    if tr(εElas_in) >= 0\n",
    "        σU = (gs +η)*σ_elas(εElasTot)\n",
    "    elseif  tr(εElas_in) < 0\n",
    "        σU = (gs +η) *I4_dev ⊙ σ_elas(εElasTot) + I4_vol ⊙ σ_elas(εElasTot)\n",
    "    end\n",
    "    return σU\n",
    "end"
   ]
  },
  {
   "cell_type": "code",
   "execution_count": null,
   "id": "ad23f4c2",
   "metadata": {},
   "outputs": [],
   "source": [
    "function σ_totthMod(ε_in ,s_in, T, T_in)\n",
    "    εElas_in = ε_in - α*(T_in -T0)*I2\n",
    "    εElasTotth = -α*T*I2\n",
    "\n",
    "    gs = (s_in^2) / (s_in^2 + m*(1-s_in)*(0.5+0.5*s_in))\n",
    "    \n",
    "    if tr(εElas_in) >= 0\n",
    "        σT = (gs +η)*σ_elas(εElasTotth)\n",
    "    elseif  tr(εElas_in) < 0\n",
    "        σT = (gs +η) *I4_dev ⊙ σ_elas(εElasTotth) + I4_vol ⊙ σ_elas(εElasTotth)\n",
    "    end\n",
    "    return σT\n",
    "end"
   ]
  },
  {
   "cell_type": "code",
   "execution_count": null,
   "id": "75c2810e",
   "metadata": {},
   "outputs": [],
   "source": [
    "function σ_thermMod(ε_in ,s_in ,T_in)\n",
    "    εElas_in = ε_in - α*(T_in -T0)*I2\n",
    "    εElasTher = α*(T0)*I2\n",
    "\n",
    "    gs = (s_in^2) / (s_in^2 + m*(1-s_in)*(0.5+0.5*s_in))\n",
    "    \n",
    "    if tr(εElas_in) >= 0\n",
    "        σF = (gs +η)*σ_elas(εElasTher)\n",
    "    elseif  tr(εElas_in) < 0\n",
    "        σF = (gs +η)*I4_dev ⊙ σ_elas(εElasTher) + I4_vol ⊙ σ_elas(εElasTher)\n",
    "    end\n",
    "    return σF\n",
    "end"
   ]
  },
  {
   "cell_type": "code",
   "execution_count": null,
   "id": "functional-following",
   "metadata": {},
   "outputs": [],
   "source": [
    "function ΨPos(ε_in ,T_in, Fdg)\n",
    "    εElas_in = ε_in - α*(T_in -T0)*I2\n",
    "    if tr(εElas_in)  >= 0\n",
    "        ΨPlus = 0.5*((εElas_in) ⊙ σ_elas(εElas_in)) / Fdg\n",
    "    elseif  tr(εElas_in) < 0\n",
    "        ΨPlus = 0.5*(( I4_dev ⊙ σ_elas(εElas_in)) ⊙ (I4_dev ⊙ (εElas_in))) / Fdg\n",
    "    end\n",
    "    return ΨPlus\n",
    "end\n",
    "\n",
    "function ΨPosOrg(ε_in ,T_in)\n",
    "    εElas_in = ε_in - α*(T_in -T0)*I2\n",
    "    if tr(εElas_in)  >= 0\n",
    "        ΨPlus = 0.5*((εElas_in) ⊙ σ_elas(εElas_in))\n",
    "    elseif  tr(εElas_in) < 0\n",
    "        ΨPlus = 0.5*(( I4_dev ⊙ σ_elas(εElas_in)) ⊙ (I4_dev ⊙ (εElas_in)))\n",
    "    end\n",
    "    return ΨPlus\n",
    "end"
   ]
  },
  {
   "cell_type": "code",
   "execution_count": null,
   "id": "d3646d30-b6c1-4fd7-acdb-200b2beea638",
   "metadata": {},
   "outputs": [],
   "source": [
    "function αNC(s_in,ψhPos_in)\n",
    "    gs = (s_in^2) / (s_in^2 + m*(1-s_in)*(0.5+0.5*s_in))\n",
    "    α = gs * ψhPos_in\n",
    "    return α\n",
    "end\n",
    "\n",
    "function FatiguehistoryVariable(ψhPos_in,αPrev,αbPrev)\n",
    "    α = ψhPos_in #(s_in ^2 + η)*ψhPos_in\n",
    "    if α >= αPrev\n",
    "       αb = αbPrev + abs(α-αPrev)\n",
    "    else\n",
    "       αb = αbPrev\n",
    "    end\n",
    "return αb\n",
    "end\n",
    "\n",
    "function FatigueDegrad(αb)\n",
    "    fdg = @. ifelse(αb >= αT , ((2*αT)/(αb + αT))*((2*αT)/(αb + αT)), 1.0)\n",
    "    return fdg\n",
    "end"
   ]
  },
  {
   "cell_type": "code",
   "execution_count": null,
   "id": "behind-edgar",
   "metadata": {},
   "outputs": [],
   "source": [
    "order = 1\n",
    "reffe_PF = ReferenceFE(lagrangian ,Float64 ,order)\n",
    "V0_PF = TestFESpace(model ,reffe_PF;conformity =:H1)\n",
    "U_PF = TrialFESpace(V0_PF)"
   ]
  },
  {
   "cell_type": "code",
   "execution_count": null,
   "id": "eligible-creation",
   "metadata": {},
   "outputs": [],
   "source": [
    "reffe_Disp = ReferenceFE(lagrangian ,VectorValue{2,Float64},order)\n",
    "V0_Disp = TestFESpace(model ,reffe_Disp;conformity =:H1 ,dirichlet_tags =[\"LeftSupport\",\"RightSupport\",\"LoadLine\"],\n",
    "    dirichlet_masks =[(true ,true) ,(false ,true), (false ,true)])\n",
    "uh = zero(V0_Disp)"
   ]
  },
  {
   "cell_type": "code",
   "execution_count": null,
   "id": "foster-lightweight",
   "metadata": {},
   "outputs": [],
   "source": [
    "reffe_Temp = ReferenceFE(lagrangian ,Float64 ,order)\n",
    "V0_Temp = TestFESpace(model ,reffe_Temp;conformity =:H1 ,dirichlet_tags =[\"LeftTempBoundary\",\"RightTempBoundary\"])"
   ]
  },
  {
   "cell_type": "code",
   "execution_count": null,
   "id": "level-orange",
   "metadata": {},
   "outputs": [],
   "source": [
    "V0 = MultiFieldFESpace([V0_Disp,V0_Temp])"
   ]
  },
  {
   "cell_type": "code",
   "execution_count": null,
   "id": "developmental-vietnamese",
   "metadata": {},
   "outputs": [],
   "source": [
    "degree = 2* order\n",
    "Ω= Triangulation(model)\n",
    "dΩ= Measure(Ω,degree)"
   ]
  },
  {
   "cell_type": "code",
   "execution_count": null,
   "id": "residential-portable",
   "metadata": {},
   "outputs": [],
   "source": [
    "labels = get_face_labeling(model)\n",
    "LoadTagId = get_tag_from_name(labels ,\"LoadLine\")\n",
    "Γ_Load = BoundaryTriangulation(model ,tags = LoadTagId)\n",
    "dΓ_Load = Measure(Γ_Load ,degree)\n",
    "n_Γ_Load = get_normal_vector(Γ_Load)"
   ]
  },
  {
   "cell_type": "code",
   "execution_count": null,
   "id": "alternative-joseph",
   "metadata": {},
   "outputs": [],
   "source": [
    "function  project(q,model ,dΩ,order)\n",
    "    reffe = ReferenceFE(lagrangian ,Float64 ,order)\n",
    "    V = FESpace(model ,reffe ,conformity =:L2)\n",
    "    a(u,v) =∫(u*v)*dΩ\n",
    "    b(v) =∫(v*q)*dΩ\n",
    "    op = AffineFEOperator(a,b,V,V)\n",
    "    qh = Gridap.solve(op)\n",
    "    return  qh\n",
    "end"
   ]
  },
  {
   "cell_type": "code",
   "execution_count": null,
   "id": "1cbf552f-e0b5-4ac1-b799-e812c0c07618",
   "metadata": {},
   "outputs": [],
   "source": [
    "function crack_tip_tracker(sh,tol)\n",
    "    damagetracker = Float64[]\n",
    "    sVec = Float64[]\n",
    "    coords = get_node_coordinates(Ω)\n",
    "    \n",
    "    sVec = get_free_dof_values(sh)\n",
    "    \n",
    "    for i in 1:length(sVec)\n",
    "        if sVec[i] <= tol\n",
    "            push!(damagetracker,i)\n",
    "        end\n",
    "    end\n",
    "   damagetracker = round.(Int,damagetracker)\n",
    "    xloc = Float64[]\n",
    "    yloc = Float64[]\n",
    "    if damagetracker!= Float64[]\n",
    "        for i in 1:length(damagetracker)\n",
    "            push!(xloc,coords[damagetracker[i]][1])\n",
    "            push!(yloc,coords[damagetracker[i]][2])\n",
    "        end\n",
    "        Locy, index= findmax(yloc)\n",
    "        Locx = xloc[index]\n",
    "        return (Locx,Locy)\n",
    "    else \n",
    "       return \"No damage\"\n",
    "    end\n",
    "end"
   ]
  },
  {
   "cell_type": "code",
   "execution_count": null,
   "id": "d4c6b895-035a-4393-ab32-83e77de241b6",
   "metadata": {},
   "outputs": [],
   "source": [
    "nls = NLSolver(\n",
    "  show_trace=true,\n",
    "  method=:newton,\n",
    "  linesearch=BackTracking(), iterations = 10)\n",
    "solver = FESolver(nls)"
   ]
  },
  {
   "cell_type": "code",
   "execution_count": null,
   "id": "4a309343-2c81-436b-8830-bebb6750ae3a",
   "metadata": {},
   "outputs": [],
   "source": [
    "function stepPhaseField(x0,vApp,cache,ψPlusPrev_in)\n",
    "     U_PF = TrialFESpace(V0_PF)\n",
    "     res(s,ϕ) = ∫( (3/4)*Gc*ls*∇(ϕ)⋅ ∇(s) + (degDer∘(s))*ψPlusPrev_in*ϕ - ((3/8)*Gc/ls)*ϕ)*dΩ\n",
    "     op = FEOperator(res,U_PF,V0_PF)\n",
    "     sh_out = FEFunction(U_PF,x0)\n",
    "     sh_out, cache = solve!(sh_out,solver,op,cache)\n",
    "  return sh_out, get_free_dof_values(sh_out), cache\n",
    "end"
   ]
  },
  {
   "cell_type": "code",
   "execution_count": null,
   "id": "robust-vancouver",
   "metadata": {},
   "outputs": [],
   "source": [
    "function κGradTemp(∇,s_in)\n",
    "    gs = (s_in^2) / (s_in^2 + m*(1-s_in)*(0.5+0.5*s_in))\n",
    "    kGr = (gs +η)*κ_mat*∇\n",
    "    return kGr\n",
    "end"
   ]
  },
  {
   "cell_type": "code",
   "execution_count": null,
   "id": "a5e0e5de",
   "metadata": {},
   "outputs": [],
   "source": [
    "function    stepDispTemp(uh_in ,sh_in ,T_in ,vApp ,TApp ,delt)\n",
    "    uApp1(x) = VectorValue(0.0,0.0)\n",
    "    uApp2(x) = VectorValue(0.0,0.0)\n",
    "    uApp3(x) = VectorValue(0.0,-vApp)\n",
    "    U_Disp = TrialFESpace(V0_Disp ,[uApp1 ,uApp2, uApp3])\n",
    "    \n",
    "    Tapp1(x) = T0\n",
    "    Tapp2(x) = TApp\n",
    "    Tg = TrialFESpace(V0_Temp ,[Tapp1 , Tapp2])\n",
    "    \n",
    "    U = MultiFieldFESpace([U_Disp ,Tg])\n",
    "    \n",
    "    a((u,T) ,(v,w)) =∫( (ε(v) ⊙ (σ_totMod∘(ε(u),ε(uh_in),sh_in,T_in) + σ_totthMod∘(ε(uh_in),sh_in,T,T_in))) + ∇(w)⋅(κGradTemp∘(∇(T),sh_in)) + ((ρ*c*T*w)/delt))*dΩ\n",
    "    b((v,w)) =∫(((ρ*c*T_in*w)/delt) - (ε(v)⊙(σ_thermMod∘(ε(uh_in),sh_in ,T_in))))*dΩ\n",
    "    op = AffineFEOperator(a,b,U,V0)\n",
    "    uhTh = Gridap.solve(op)\n",
    "    uh_out ,Th_out =   uhTh\n",
    "    return  uh_out ,Th_out\n",
    "end"
   ]
  },
  {
   "cell_type": "code",
   "execution_count": null,
   "id": "threatened-mainstream",
   "metadata": {},
   "outputs": [],
   "source": [
    "function  new_EnergyState(ψPlusPrev_in ,ψhPos_in)\n",
    "    ψPlus_in = ψhPos_in\n",
    "    if ψPlus_in  >= ψPlusPrev_in\n",
    "        ψPlus_out = ψPlus_in\n",
    "    else\n",
    "        ψPlus_out =ψPlusPrev_in\n",
    "    end\n",
    "    true ,ψPlus_out\n",
    "end"
   ]
  },
  {
   "cell_type": "code",
   "execution_count": null,
   "id": "bb6c7d26",
   "metadata": {
    "scrolled": true
   },
   "outputs": [],
   "source": [
    "const tol_lim = 0.05\n",
    "t = 0.0\n",
    "innerMax = 10\n",
    "count = 0\n",
    "tol = 1e-6\n",
    "cycle = 0\n",
    "\n",
    "const dc = 1/n1\n",
    "\n",
    "NoofCycles = Float64[]\n",
    "Load = Float64[]\n",
    "Displacement = Float64[]\n",
    "αEnergy = Float64[]\n",
    "αDegrad = Float64[]\n",
    "FracEnergy = Float64[]\n",
    "Xloccrack = Float64[]\n",
    "Yloccrack = Float64[]\n",
    "\n",
    "push!(NoofCycles, cycle)\n",
    "push!(Load , 0.0)\n",
    "push!(Displacement , 0.0)\n",
    "push!(αEnergy, 0.0)\n",
    "push!(αDegrad, 1.0)\n",
    "push!(FracEnergy, 0.0)\n",
    "push!(Xloccrack,(L/2))\n",
    "push!(Yloccrack,CH)\n",
    "\n",
    "sPrev = CellState(1.0,dΩ)\n",
    "sh = project(sPrev ,model ,dΩ,order)\n",
    "\n",
    "ThPrev = CellState(T0,dΩ)\n",
    "Th = project(ThPrev ,model ,dΩ,order)\n",
    "\n",
    "x0_PF = ones(Float64,num_free_dofs(V0_PF))\n",
    "cache_1 = nothing\n",
    "\n",
    "αPrev = CellState(0.0,dΩ)\n",
    "αbPrev = CellState(0.0,dΩ)\n",
    "\n",
    "αhPlusPrev = project(αPrev,model,dΩ,order)\n",
    "αbhPlusPrev = project(αbPrev,model,dΩ,order)\n",
    "\n",
    "FdhPrev = FatigueDegrad∘(αbhPlusPrev)\n",
    "ψPlusPrev = CellState(ψ_Crit,dΩ)\n",
    "\n",
    "while t .< tMax\n",
    "    count = count  .+ 1\n",
    "    t = t + tp\n",
    "    cycle = cycle + dc\n",
    "    vApp = AppDisplacement[count]\n",
    "    TApp = TAppVec[count]\n",
    "\n",
    "    FdhPrev = FatigueDegrad∘(αbhPlusPrev)\n",
    "    \n",
    "    print(\"\\n Entering  displacemtent  step $count :\", float(vApp))\n",
    "    for  inner = 1:innerMax\n",
    "        ψhPlusPrev = project(ψPlusPrev ,model ,dΩ,order)\n",
    "        \n",
    "        RelErr = abs(sum(∫( (3/4)*Gc*ls*∇(sh)⋅ ∇(sh) + (degDer∘(sh))*ψhPlusPrev*sh)*dΩ-∫( ((3/8)*Gc/ls)*sh)*dΩ))/abs(sum(∫( ((3/8)*Gc/ls)*sh)*dΩ))\n",
    "        print(\"\\n Relative error = \",float(RelErr))\n",
    "        \n",
    "        sh,x0_PF,cache_1 = stepPhaseField(x0_PF,vApp,cache_1,ψhPlusPrev)\n",
    "        uh ,Th = stepDispTemp(uh,sh ,Th,vApp ,TApp ,tp)\n",
    "        ΨhPos_in =ΨPos∘(ε(uh),Th,FdhPrev)\n",
    "        update_state!(new_EnergyState ,ψPlusPrev ,ΨhPos_in)\n",
    "        \n",
    "        if  RelErr  < tol \n",
    "            break\n",
    "        end\n",
    "    end\n",
    "\n",
    "    if  crack_tip_tracker(sh,tol_lim) ==\"No damage\"\n",
    "        push!(Xloccrack,0.5*L)\n",
    "        push!(Yloccrack,CH)\n",
    "    else\n",
    "        (X_t, Y_t) = crack_tip_tracker(sh,tol_lim)\n",
    "        push!(Xloccrack,X_t)\n",
    "        push!(Yloccrack,Y_t)\n",
    "    end\n",
    "\n",
    "    ψhPosOrg_in = ΨPosOrg∘(ε(uh),Th)\n",
    "    αPrev = αNC∘(sh,ψhPosOrg_in)\n",
    "    αbPrev = FatiguehistoryVariable∘(αPrev,αhPlusPrev,αbhPlusPrev)\n",
    "    \n",
    "    αhPlusPrev = project(αPrev,model,dΩ,order)\n",
    "    αbhPlusPrev = project(αbPrev,model,dΩ,order)\n",
    "    \n",
    "    FdhPrev = FatigueDegrad∘(αbhPlusPrev)\n",
    "    \n",
    "    FracEnergyExp = sum(∫((3/8)*((1-sh)/ls + ls*(∇(sh) ⋅ ∇(sh))))*dΩ)\n",
    "    \n",
    "    αbPrevVal = evaluate(αbPrev,VectorValue(0.5*L, 0.6*H))\n",
    "    Fdegrad = evaluate(FdhPrev,VectorValue(0.5*L, 0.6*H))\n",
    "    \n",
    "    push!(NoofCycles, cycle)\n",
    "    \n",
    "    push!(αEnergy, αbPrevVal)\n",
    "    push!(αDegrad, Fdegrad)\n",
    "    push!(FracEnergy, FracEnergyExp)\n",
    "    \n",
    "    Node_Force = sum(∫( n_Γ_Load⋅(σ_elasMod∘(ε(uh),ε(uh),sh,Th,Th)) ) *dΓ_Load)\n",
    "    push!(Load , Node_Force[2])\n",
    "    push!( Displacement , vApp)\n",
    "    if mod(count,10) == 0\n",
    "    writevtk(Ω,\"results_PhaseFieldThermoElastic$count\",cellfields=[\"uh\"=>uh,\"s\"=>sh ,\"epsi\"=>ε(uh),\"T\"=>Th])\n",
    "    end\n",
    "end"
   ]
  },
  {
   "cell_type": "code",
   "execution_count": null,
   "id": "vital-symphony",
   "metadata": {},
   "outputs": [],
   "source": [
    "plot(Displacement ,Load)"
   ]
  },
  {
   "cell_type": "code",
   "execution_count": null,
   "id": "6ff0c1eb-20dd-4332-8086-7d41d44daafa",
   "metadata": {},
   "outputs": [],
   "source": [
    "plot(NoofCycles ,Displacement)"
   ]
  },
  {
   "cell_type": "code",
   "execution_count": null,
   "id": "536fbaad-3b98-409f-a853-dd3c23769357",
   "metadata": {},
   "outputs": [],
   "source": [
    "plot(NoofCycles ,Yloccrack.-CH)"
   ]
  },
  {
   "cell_type": "code",
   "execution_count": null,
   "id": "42b0e6a5-39f4-4502-a281-b28ac7c69924",
   "metadata": {},
   "outputs": [],
   "source": [
    "using DelimitedFiles\n",
    "using CSV\n",
    "using LaTeXStrings"
   ]
  },
  {
   "cell_type": "code",
   "execution_count": null,
   "id": "d99dfbbe-6600-4acb-a2f9-5144fe0acf22",
   "metadata": {},
   "outputs": [],
   "source": [
    "path = \"../PlottingFiles/\"                                # Output path\n",
    "mkpath(path) \n",
    "cd(\"../PlottingFiles/\")"
   ]
  },
  {
   "cell_type": "code",
   "execution_count": null,
   "id": "b9443fd1-62c9-4473-baf2-fcc687c24985",
   "metadata": {},
   "outputs": [],
   "source": [
    "NoofCyclesCSV = writedlm(\"kf05_Step64NoofCyclesPhlsfullVolDevN$ls.csv\",  NoofCycles, ',')\n",
    "XloccrackCSV = writedlm(\"kf05_Step64XloccrackPhlsfullVolDevN$ls.csv\",  Xloccrack, ',')\n",
    "YloccrackCSV = writedlm(\"kf05_Step64YloccrackPhlsfullVolDevN$ls.csv\",  Yloccrack, ',')\n",
    "LoadCSV = writedlm(\"kf05_Step64LoadPhlsfullVolDevN$ls.csv\",  Load, ',')\n",
    "αDegradCSV = writedlm(\"kf05_Step64αDegradPhlsfullVolDevN$ls.csv\",  αDegrad, ',')\n",
    "FracEnergyCSV = writedlm(\"kf05_Step64FracEnergyPhlsfullVolDevNew$ls.csv\",  FracEnergy, ',')"
   ]
  }
 ],
 "metadata": {
  "@webio": {
   "lastCommId": null,
   "lastKernelId": null
  },
  "kernelspec": {
   "display_name": "Julia 1.8.1",
   "language": "julia",
   "name": "julia-1.8"
  },
  "language_info": {
   "file_extension": ".jl",
   "mimetype": "application/julia",
   "name": "julia",
   "version": "1.8.1"
  }
 },
 "nbformat": 4,
 "nbformat_minor": 5
}
